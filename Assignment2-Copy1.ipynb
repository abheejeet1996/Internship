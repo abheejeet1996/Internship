{
 "cells": [
  {
   "cell_type": "code",
   "execution_count": 1,
   "id": "8d6f83a1",
   "metadata": {},
   "outputs": [
    {
     "name": "stdout",
     "output_type": "stream",
     "text": [
      "Requirement already satisfied: selenium in c:\\programdata\\anaconda3\\lib\\site-packages (4.1.0)\n",
      "Requirement already satisfied: urllib3[secure]~=1.26 in c:\\programdata\\anaconda3\\lib\\site-packages (from selenium) (1.26.4)\n",
      "Requirement already satisfied: trio~=0.17 in c:\\programdata\\anaconda3\\lib\\site-packages (from selenium) (0.19.0)\n",
      "Requirement already satisfied: trio-websocket~=0.9 in c:\\programdata\\anaconda3\\lib\\site-packages (from selenium) (0.9.2)\n",
      "Requirement already satisfied: attrs>=19.2.0 in c:\\programdata\\anaconda3\\lib\\site-packages (from trio~=0.17->selenium) (20.3.0)\n",
      "Requirement already satisfied: idna in c:\\programdata\\anaconda3\\lib\\site-packages (from trio~=0.17->selenium) (2.10)\n",
      "Requirement already satisfied: cffi>=1.14 in c:\\programdata\\anaconda3\\lib\\site-packages (from trio~=0.17->selenium) (1.14.5)\n",
      "Requirement already satisfied: sortedcontainers in c:\\programdata\\anaconda3\\lib\\site-packages (from trio~=0.17->selenium) (2.3.0)\n",
      "Requirement already satisfied: outcome in c:\\programdata\\anaconda3\\lib\\site-packages (from trio~=0.17->selenium) (1.1.0)\n",
      "Requirement already satisfied: async-generator>=1.9 in c:\\programdata\\anaconda3\\lib\\site-packages (from trio~=0.17->selenium) (1.10)\n",
      "Requirement already satisfied: sniffio in c:\\programdata\\anaconda3\\lib\\site-packages (from trio~=0.17->selenium) (1.2.0)\n",
      "Requirement already satisfied: pycparser in c:\\programdata\\anaconda3\\lib\\site-packages (from cffi>=1.14->trio~=0.17->selenium) (2.20)\n",
      "Requirement already satisfied: wsproto>=0.14 in c:\\programdata\\anaconda3\\lib\\site-packages (from trio-websocket~=0.9->selenium) (1.0.0)\n",
      "Requirement already satisfied: cryptography>=1.3.4 in c:\\programdata\\anaconda3\\lib\\site-packages (from urllib3[secure]~=1.26->selenium) (3.4.7)\n",
      "Requirement already satisfied: certifi in c:\\programdata\\anaconda3\\lib\\site-packages (from urllib3[secure]~=1.26->selenium) (2020.12.5)\n",
      "Requirement already satisfied: pyOpenSSL>=0.14 in c:\\programdata\\anaconda3\\lib\\site-packages (from urllib3[secure]~=1.26->selenium) (20.0.1)\n",
      "Requirement already satisfied: six>=1.5.2 in c:\\programdata\\anaconda3\\lib\\site-packages (from pyOpenSSL>=0.14->urllib3[secure]~=1.26->selenium) (1.15.0)\n",
      "Requirement already satisfied: h11<1,>=0.9.0 in c:\\programdata\\anaconda3\\lib\\site-packages (from wsproto>=0.14->trio-websocket~=0.9->selenium) (0.12.0)\n"
     ]
    }
   ],
   "source": [
    "! pip install selenium"
   ]
  },
  {
   "cell_type": "markdown",
   "id": "8296b540",
   "metadata": {},
   "source": [
    "Q1 - Write a python program to scrape data for “Data Analyst” Job position in “Bangalore” location. You\n",
    "have to scrape the job-title, job-location, company_name, experience_required. You have to scrape first 10\n",
    "jobs data."
   ]
  },
  {
   "cell_type": "code",
   "execution_count": 2,
   "id": "31872192",
   "metadata": {},
   "outputs": [],
   "source": [
    "import selenium\n",
    "import pandas as pd\n",
    "from selenium import webdriver\n",
    "import warnings\n",
    "warnings.simplefilter(action = 'ignore', category = DeprecationWarning)"
   ]
  },
  {
   "cell_type": "code",
   "execution_count": 3,
   "id": "1d5543e0",
   "metadata": {},
   "outputs": [],
   "source": [
    "driver = webdriver.Chrome(r\"C:\\Users\\Abhijeet\\Downloads\\chromedriver_win32\\chromedriver.exe\")"
   ]
  },
  {
   "cell_type": "code",
   "execution_count": 4,
   "id": "f80147ec",
   "metadata": {},
   "outputs": [],
   "source": [
    "driver.get('https://www.naukri.com/')"
   ]
  },
  {
   "cell_type": "code",
   "execution_count": 5,
   "id": "99567c0f",
   "metadata": {},
   "outputs": [],
   "source": [
    "# Finding element for job search bar\n",
    "\n",
    "search_job = driver.find_element_by_id('qsb-keyword-sugg')\n",
    "\n",
    "search_job.send_keys('Data Analyst')"
   ]
  },
  {
   "cell_type": "code",
   "execution_count": 6,
   "id": "10d56a25",
   "metadata": {},
   "outputs": [],
   "source": [
    "# Finding Element for Location \n",
    "\n",
    "search_loc = driver.find_element_by_id('qsb-location-sugg')\n",
    "\n",
    "search_loc.send_keys('Bangalore')"
   ]
  },
  {
   "cell_type": "code",
   "execution_count": 9,
   "id": "632ae916",
   "metadata": {},
   "outputs": [],
   "source": [
    "# For clicking on search button\n",
    "\n",
    "search_btn = driver.find_element_by_xpath(\"//div[@class='search-btn']/button\")\n",
    "\n",
    "search_btn.click()"
   ]
  },
  {
   "cell_type": "code",
   "execution_count": 57,
   "id": "c0b43dfb",
   "metadata": {},
   "outputs": [],
   "source": [
    "# Making empty lists\n",
    "\n",
    "job_title = []\n",
    "company_name= []\n",
    "location = []\n",
    "exp =[]\n"
   ]
  },
  {
   "cell_type": "code",
   "execution_count": 18,
   "id": "916b60b1",
   "metadata": {},
   "outputs": [],
   "source": [
    "# Finding Element for job titles\n",
    "\n",
    "title_tags = driver.find_elements_by_xpath(\"//a[@class='title fw500 ellipsis']\")\n",
    "\n",
    "for i in title_tags:\n",
    "    job_title.append(i.text)\n",
    "    \n",
    "job_titles = job_title[0:10]"
   ]
  },
  {
   "cell_type": "code",
   "execution_count": 24,
   "id": "aa7b68c1",
   "metadata": {},
   "outputs": [],
   "source": [
    "# Finding Element for job company name\n",
    "\n",
    "company_tags = driver.find_elements_by_xpath(\"//a[@class='subTitle ellipsis fleft']\")\n",
    "\n",
    "for i in company_tags:\n",
    "    company_name.append(i.text)\n",
    "    \n",
    "company_names = company_name[0:10]"
   ]
  },
  {
   "cell_type": "code",
   "execution_count": 68,
   "id": "91105842",
   "metadata": {},
   "outputs": [],
   "source": [
    "# Finding Element for job location\n",
    "\n",
    "location_tags = driver.find_elements_by_xpath(\"//li[@class='fleft grey-text br2 placeHolderLi location']\")\n",
    "\n",
    "for i in location_tags:\n",
    "    location.append(i.text)\n",
    "    \n",
    "locations = location[0:10]"
   ]
  },
  {
   "cell_type": "code",
   "execution_count": 69,
   "id": "5c92149d",
   "metadata": {},
   "outputs": [],
   "source": [
    "# Finding Element for experience\n",
    "\n",
    "exp_tags= driver.find_elements_by_xpath(\"//li[@class='fleft grey-text br2 placeHolderLi experience']\")\n",
    "\n",
    "for i in exp_tags:\n",
    "    exp.append(i.text)\n",
    "    \n",
    "    \n",
    "exp_ = exp[0:10]"
   ]
  },
  {
   "cell_type": "code",
   "execution_count": 70,
   "id": "56b2452b",
   "metadata": {},
   "outputs": [
    {
     "name": "stdout",
     "output_type": "stream",
     "text": [
      "10 10 10 10\n"
     ]
    }
   ],
   "source": [
    "print(len(job_titles),len(company_names),len(locations),len(exp_))"
   ]
  },
  {
   "cell_type": "code",
   "execution_count": 73,
   "id": "560e8180",
   "metadata": {},
   "outputs": [
    {
     "data": {
      "text/html": [
       "<div>\n",
       "<style scoped>\n",
       "    .dataframe tbody tr th:only-of-type {\n",
       "        vertical-align: middle;\n",
       "    }\n",
       "\n",
       "    .dataframe tbody tr th {\n",
       "        vertical-align: top;\n",
       "    }\n",
       "\n",
       "    .dataframe thead th {\n",
       "        text-align: right;\n",
       "    }\n",
       "</style>\n",
       "<table border=\"1\" class=\"dataframe\">\n",
       "  <thead>\n",
       "    <tr style=\"text-align: right;\">\n",
       "      <th></th>\n",
       "      <th>Job_title</th>\n",
       "      <th>Location</th>\n",
       "      <th>Company_names</th>\n",
       "      <th>Experience</th>\n",
       "    </tr>\n",
       "  </thead>\n",
       "  <tbody>\n",
       "    <tr>\n",
       "      <th>0</th>\n",
       "      <td>Senior Data Analyst</td>\n",
       "      <td>Bangalore/Bengaluru</td>\n",
       "      <td>Flipkart</td>\n",
       "      <td>3-7 Yrs</td>\n",
       "    </tr>\n",
       "    <tr>\n",
       "      <th>1</th>\n",
       "      <td>Senior Data Analyst for HANA Platform</td>\n",
       "      <td>Bangalore/Bengaluru</td>\n",
       "      <td>Intel</td>\n",
       "      <td>5-10 Yrs</td>\n",
       "    </tr>\n",
       "    <tr>\n",
       "      <th>2</th>\n",
       "      <td>Data Analyst</td>\n",
       "      <td>Bangalore/Bengaluru</td>\n",
       "      <td>Slice</td>\n",
       "      <td>0-2 Yrs</td>\n",
       "    </tr>\n",
       "    <tr>\n",
       "      <th>3</th>\n",
       "      <td>Senior Data Analyst</td>\n",
       "      <td>Kolkata, Hyderabad/Secunderabad, Pune, Ahmedab...</td>\n",
       "      <td>SYREN TECHNOLOGIES PRIVATE LIMITED</td>\n",
       "      <td>5-10 Yrs</td>\n",
       "    </tr>\n",
       "    <tr>\n",
       "      <th>4</th>\n",
       "      <td>Senior Data Analyst</td>\n",
       "      <td>Bengaluru/Bangalore</td>\n",
       "      <td>Flipkart</td>\n",
       "      <td>4-5 Yrs</td>\n",
       "    </tr>\n",
       "    <tr>\n",
       "      <th>5</th>\n",
       "      <td>Data Analyst</td>\n",
       "      <td>Bangalore/Bengaluru</td>\n",
       "      <td>GlaxoSmithKline Pharmaceuticals Limited</td>\n",
       "      <td>2-5 Yrs</td>\n",
       "    </tr>\n",
       "    <tr>\n",
       "      <th>6</th>\n",
       "      <td>Data Analyst (On Contract)</td>\n",
       "      <td>Bangalore/Bengaluru</td>\n",
       "      <td>Rupeek Fintech Pvt Ltd</td>\n",
       "      <td>0-2 Yrs</td>\n",
       "    </tr>\n",
       "    <tr>\n",
       "      <th>7</th>\n",
       "      <td>Senior Data Analyst</td>\n",
       "      <td>Bangalore/Bengaluru</td>\n",
       "      <td>ExecBoardinAsia</td>\n",
       "      <td>5-10 Yrs</td>\n",
       "    </tr>\n",
       "    <tr>\n",
       "      <th>8</th>\n",
       "      <td>Senior Associate- Data Analyst</td>\n",
       "      <td>Bangalore/Bengaluru</td>\n",
       "      <td>Sapient</td>\n",
       "      <td>4-9 Yrs</td>\n",
       "    </tr>\n",
       "    <tr>\n",
       "      <th>9</th>\n",
       "      <td>Data Analyst</td>\n",
       "      <td>Hyderabad/Secunderabad, Coimbatore, Thodupuzha...</td>\n",
       "      <td>CINDREBAY SCHOOL OF FASHION &amp; INTERIOR DESIGN</td>\n",
       "      <td>1-4 Yrs</td>\n",
       "    </tr>\n",
       "  </tbody>\n",
       "</table>\n",
       "</div>"
      ],
      "text/plain": [
       "                               Job_title  \\\n",
       "0                    Senior Data Analyst   \n",
       "1  Senior Data Analyst for HANA Platform   \n",
       "2                           Data Analyst   \n",
       "3                    Senior Data Analyst   \n",
       "4                    Senior Data Analyst   \n",
       "5                           Data Analyst   \n",
       "6             Data Analyst (On Contract)   \n",
       "7                    Senior Data Analyst   \n",
       "8         Senior Associate- Data Analyst   \n",
       "9                           Data Analyst   \n",
       "\n",
       "                                            Location  \\\n",
       "0                                Bangalore/Bengaluru   \n",
       "1                                Bangalore/Bengaluru   \n",
       "2                                Bangalore/Bengaluru   \n",
       "3  Kolkata, Hyderabad/Secunderabad, Pune, Ahmedab...   \n",
       "4                                Bengaluru/Bangalore   \n",
       "5                                Bangalore/Bengaluru   \n",
       "6                                Bangalore/Bengaluru   \n",
       "7                                Bangalore/Bengaluru   \n",
       "8                                Bangalore/Bengaluru   \n",
       "9  Hyderabad/Secunderabad, Coimbatore, Thodupuzha...   \n",
       "\n",
       "                                   Company_names Experience  \n",
       "0                                       Flipkart    3-7 Yrs  \n",
       "1                                          Intel   5-10 Yrs  \n",
       "2                                          Slice    0-2 Yrs  \n",
       "3             SYREN TECHNOLOGIES PRIVATE LIMITED   5-10 Yrs  \n",
       "4                                       Flipkart    4-5 Yrs  \n",
       "5        GlaxoSmithKline Pharmaceuticals Limited    2-5 Yrs  \n",
       "6                         Rupeek Fintech Pvt Ltd    0-2 Yrs  \n",
       "7                                ExecBoardinAsia   5-10 Yrs  \n",
       "8                                        Sapient    4-9 Yrs  \n",
       "9  CINDREBAY SCHOOL OF FASHION & INTERIOR DESIGN    1-4 Yrs  "
      ]
     },
     "execution_count": 73,
     "metadata": {},
     "output_type": "execute_result"
    }
   ],
   "source": [
    "df = pd.DataFrame({'Job_title':job_titles,'Location':locations,'Company_names':company_names,'Experience':exp_})\n",
    "df"
   ]
  },
  {
   "cell_type": "markdown",
   "id": "81a0b8d0",
   "metadata": {},
   "source": [
    "Write a python program to scrape data for “Data Scientist” Job position in “Bangalore” location. You\n",
    "have to scrape the job-title, job-location, company_name. You have to scrape first 10 jobs data.\n",
    "This task will be done in following steps:"
   ]
  },
  {
   "cell_type": "code",
   "execution_count": 74,
   "id": "91aa122d",
   "metadata": {},
   "outputs": [],
   "source": [
    "driver = webdriver.Chrome(r\"C:\\Users\\Abhijeet\\Downloads\\chromedriver_win32\\chromedriver.exe\")"
   ]
  },
  {
   "cell_type": "code",
   "execution_count": 75,
   "id": "54ae93ad",
   "metadata": {},
   "outputs": [],
   "source": [
    "driver.get('https://www.naukri.com/')"
   ]
  },
  {
   "cell_type": "code",
   "execution_count": 76,
   "id": "1329e089",
   "metadata": {},
   "outputs": [],
   "source": [
    "# Finding element for job search bar\n",
    "\n",
    "search_job = driver.find_element_by_id('qsb-keyword-sugg')\n",
    "\n",
    "search_job.send_keys('Data Scientist')"
   ]
  },
  {
   "cell_type": "code",
   "execution_count": 77,
   "id": "2a7403cf",
   "metadata": {},
   "outputs": [],
   "source": [
    "# Finding Element for Location \n",
    "\n",
    "search_loc = driver.find_element_by_id('qsb-location-sugg')\n",
    "\n",
    "search_loc.send_keys('Bangalore')"
   ]
  },
  {
   "cell_type": "code",
   "execution_count": 78,
   "id": "556011f0",
   "metadata": {},
   "outputs": [],
   "source": [
    "# For clicking on search button\n",
    "\n",
    "search_btn = driver.find_element_by_xpath(\"//div[@class='search-btn']/button\")\n",
    "\n",
    "search_btn.click()"
   ]
  },
  {
   "cell_type": "code",
   "execution_count": 79,
   "id": "e03fe555",
   "metadata": {},
   "outputs": [],
   "source": [
    "# Making empty lists\n",
    "\n",
    "job_title = []\n",
    "company_name= []\n",
    "location = []\n",
    "exp =[]"
   ]
  },
  {
   "cell_type": "code",
   "execution_count": 85,
   "id": "fb0b9f04",
   "metadata": {},
   "outputs": [],
   "source": [
    "title_tags = driver.find_elements_by_xpath(\"//a[@class='title fw500 ellipsis']\")\n",
    "\n",
    "for i in title_tags:\n",
    "    job_title.append(i.text)\n",
    "    \n",
    "job_titles = job_title[0:10]\n",
    "\n",
    "company_tags = driver.find_elements_by_xpath(\"//a[@class='subTitle ellipsis fleft']\")\n",
    "\n",
    "for i in company_tags:\n",
    "    company_name.append(i.text)\n",
    "    \n",
    "company_names = company_name[0:10]\n",
    "\n",
    "location_tags = driver.find_elements_by_xpath(\"//li[@class='fleft grey-text br2 placeHolderLi location']\")\n",
    "\n",
    "for i in location_tags:\n",
    "    location.append(i.text)\n",
    "    \n",
    "locations = location[0:10]\n",
    "\n",
    "exp_tags= driver.find_elements_by_xpath(\"//li[@class='fleft grey-text br2 placeHolderLi experience']\")\n",
    "\n",
    "for i in exp_tags:\n",
    "    exp.append(i.text)\n",
    "    \n",
    "    \n",
    "exp_ = exp[0:10]\n",
    "\n"
   ]
  },
  {
   "cell_type": "code",
   "execution_count": 86,
   "id": "679cf442",
   "metadata": {},
   "outputs": [
    {
     "name": "stdout",
     "output_type": "stream",
     "text": [
      "10 10 10 10\n"
     ]
    }
   ],
   "source": [
    "print(len(job_titles),len(company_names),len(locations),len(exp_))"
   ]
  },
  {
   "cell_type": "code",
   "execution_count": 87,
   "id": "f86e2eb6",
   "metadata": {},
   "outputs": [
    {
     "data": {
      "text/html": [
       "<div>\n",
       "<style scoped>\n",
       "    .dataframe tbody tr th:only-of-type {\n",
       "        vertical-align: middle;\n",
       "    }\n",
       "\n",
       "    .dataframe tbody tr th {\n",
       "        vertical-align: top;\n",
       "    }\n",
       "\n",
       "    .dataframe thead th {\n",
       "        text-align: right;\n",
       "    }\n",
       "</style>\n",
       "<table border=\"1\" class=\"dataframe\">\n",
       "  <thead>\n",
       "    <tr style=\"text-align: right;\">\n",
       "      <th></th>\n",
       "      <th>Job_title</th>\n",
       "      <th>Location</th>\n",
       "      <th>Company_names</th>\n",
       "      <th>Experience</th>\n",
       "    </tr>\n",
       "  </thead>\n",
       "  <tbody>\n",
       "    <tr>\n",
       "      <th>0</th>\n",
       "      <td>Lead/Senior Data Scientist (NLP)</td>\n",
       "      <td>Bangalore/Bengaluru\\n(WFH during Covid)</td>\n",
       "      <td>Samya.AI A FRACTAL Entity</td>\n",
       "      <td>3-8 Yrs</td>\n",
       "    </tr>\n",
       "    <tr>\n",
       "      <th>1</th>\n",
       "      <td>Data Scientist: Advanced Analytics</td>\n",
       "      <td>Bengaluru/Bangalore</td>\n",
       "      <td>IBM India Pvt. Limited</td>\n",
       "      <td>5-7 Yrs</td>\n",
       "    </tr>\n",
       "    <tr>\n",
       "      <th>2</th>\n",
       "      <td>Senior Engineer - AIML - Data Scientist</td>\n",
       "      <td>Bangalore/Bengaluru</td>\n",
       "      <td>Unisys</td>\n",
       "      <td>4-9 Yrs</td>\n",
       "    </tr>\n",
       "    <tr>\n",
       "      <th>3</th>\n",
       "      <td>Lead Data Scientist</td>\n",
       "      <td>Palani, Bangalore/Bengaluru</td>\n",
       "      <td>Groww</td>\n",
       "      <td>6-10 Yrs</td>\n",
       "    </tr>\n",
       "    <tr>\n",
       "      <th>4</th>\n",
       "      <td>Jr. Data Analyst/ Jr. Data Scientist</td>\n",
       "      <td>Hyderabad/Secunderabad, Bangalore/Bengaluru, M...</td>\n",
       "      <td>Sejal Consulting Hub</td>\n",
       "      <td>0-5 Yrs</td>\n",
       "    </tr>\n",
       "    <tr>\n",
       "      <th>5</th>\n",
       "      <td>Senior Data Scientist</td>\n",
       "      <td>Pune, Bangalore/Bengaluru, Delhi / NCR</td>\n",
       "      <td>Wipro</td>\n",
       "      <td>4-9 Yrs</td>\n",
       "    </tr>\n",
       "    <tr>\n",
       "      <th>6</th>\n",
       "      <td>Cognitive/AI Senior Data Scientist</td>\n",
       "      <td>Bengaluru/Bangalore</td>\n",
       "      <td>IBM India Pvt. Limited</td>\n",
       "      <td>4-8 Yrs</td>\n",
       "    </tr>\n",
       "    <tr>\n",
       "      <th>7</th>\n",
       "      <td>Senior Data Scientist</td>\n",
       "      <td>Kolkata, Hyderabad/Secunderabad, Pune, Chennai...</td>\n",
       "      <td>Wipro</td>\n",
       "      <td>5-10 Yrs</td>\n",
       "    </tr>\n",
       "    <tr>\n",
       "      <th>8</th>\n",
       "      <td>Lead Programmer - Data Scientist</td>\n",
       "      <td>Bangalore/Bengaluru</td>\n",
       "      <td>GlaxoSmithKline Pharmaceuticals Limited</td>\n",
       "      <td>3-8 Yrs</td>\n",
       "    </tr>\n",
       "    <tr>\n",
       "      <th>9</th>\n",
       "      <td>Senior Data Scientist</td>\n",
       "      <td>Bangalore/Bengaluru</td>\n",
       "      <td>Juniper Networks</td>\n",
       "      <td>11-15 Yrs</td>\n",
       "    </tr>\n",
       "  </tbody>\n",
       "</table>\n",
       "</div>"
      ],
      "text/plain": [
       "                                 Job_title  \\\n",
       "0         Lead/Senior Data Scientist (NLP)   \n",
       "1       Data Scientist: Advanced Analytics   \n",
       "2  Senior Engineer - AIML - Data Scientist   \n",
       "3                      Lead Data Scientist   \n",
       "4     Jr. Data Analyst/ Jr. Data Scientist   \n",
       "5                    Senior Data Scientist   \n",
       "6       Cognitive/AI Senior Data Scientist   \n",
       "7                    Senior Data Scientist   \n",
       "8         Lead Programmer - Data Scientist   \n",
       "9                    Senior Data Scientist   \n",
       "\n",
       "                                            Location  \\\n",
       "0            Bangalore/Bengaluru\\n(WFH during Covid)   \n",
       "1                                Bengaluru/Bangalore   \n",
       "2                                Bangalore/Bengaluru   \n",
       "3                        Palani, Bangalore/Bengaluru   \n",
       "4  Hyderabad/Secunderabad, Bangalore/Bengaluru, M...   \n",
       "5             Pune, Bangalore/Bengaluru, Delhi / NCR   \n",
       "6                                Bengaluru/Bangalore   \n",
       "7  Kolkata, Hyderabad/Secunderabad, Pune, Chennai...   \n",
       "8                                Bangalore/Bengaluru   \n",
       "9                                Bangalore/Bengaluru   \n",
       "\n",
       "                             Company_names Experience  \n",
       "0                Samya.AI A FRACTAL Entity    3-8 Yrs  \n",
       "1                   IBM India Pvt. Limited    5-7 Yrs  \n",
       "2                                   Unisys    4-9 Yrs  \n",
       "3                                    Groww   6-10 Yrs  \n",
       "4                     Sejal Consulting Hub    0-5 Yrs  \n",
       "5                                    Wipro    4-9 Yrs  \n",
       "6                   IBM India Pvt. Limited    4-8 Yrs  \n",
       "7                                    Wipro   5-10 Yrs  \n",
       "8  GlaxoSmithKline Pharmaceuticals Limited    3-8 Yrs  \n",
       "9                         Juniper Networks  11-15 Yrs  "
      ]
     },
     "execution_count": 87,
     "metadata": {},
     "output_type": "execute_result"
    }
   ],
   "source": [
    "df2 = pd.DataFrame({'Job_title':job_titles,'Location':locations,'Company_names':company_names,'Experience':exp_})\n",
    "df2"
   ]
  },
  {
   "cell_type": "markdown",
   "id": "f090715d",
   "metadata": {},
   "source": [
    "Q 3 - In this question you have to scrape data using the filters available on the webpage as shown below:"
   ]
  },
  {
   "cell_type": "code",
   "execution_count": 2,
   "id": "2e77aa39",
   "metadata": {},
   "outputs": [],
   "source": [
    "import selenium\n",
    "import pandas as pd\n",
    "import numpy as np\n",
    "from selenium import webdriver\n",
    "import warnings\n",
    "warnings.simplefilter(action = 'ignore', category = DeprecationWarning)"
   ]
  },
  {
   "cell_type": "code",
   "execution_count": 37,
   "id": "c8f40490",
   "metadata": {},
   "outputs": [],
   "source": [
    "driver = webdriver.Chrome(r\"C:\\Users\\Abhijeet\\Downloads\\chromedriver_win32\\chromedriver.exe\")"
   ]
  },
  {
   "cell_type": "code",
   "execution_count": 38,
   "id": "dbe67909",
   "metadata": {},
   "outputs": [],
   "source": [
    "driver.get('https://www.naukri.com/')"
   ]
  },
  {
   "cell_type": "code",
   "execution_count": 8,
   "id": "400f1919",
   "metadata": {},
   "outputs": [],
   "source": [
    "search_job = driver.find_element_by_id(\"qsb-keyword-sugg\")\n",
    "\n",
    "search_job.send_keys('Data Scientist')"
   ]
  },
  {
   "cell_type": "code",
   "execution_count": 10,
   "id": "4e568105",
   "metadata": {},
   "outputs": [],
   "source": [
    "search_btn = driver.find_element_by_xpath(\"//div[@class='search-btn']/button\")\n",
    "\n",
    "search_btn.click()"
   ]
  },
  {
   "cell_type": "code",
   "execution_count": 11,
   "id": "929c4906",
   "metadata": {},
   "outputs": [],
   "source": [
    "location_fil = driver.find_element_by_xpath(\"/html/body/div[1]/div[3]/div[2]/section[1]/div[2]/div[3]/div[2]/div[3]\")\n",
    "\n",
    "location_fil.click()"
   ]
  },
  {
   "cell_type": "code",
   "execution_count": 12,
   "id": "4ac97477",
   "metadata": {},
   "outputs": [],
   "source": [
    "salary_fil = driver.find_element_by_xpath(\"/html/body/div[1]/div[3]/div[2]/section[1]/div[2]/div[4]/div[2]/div[2]\")\n",
    "\n",
    "salary_fil.click()"
   ]
  },
  {
   "cell_type": "code",
   "execution_count": 13,
   "id": "6368c03b",
   "metadata": {},
   "outputs": [],
   "source": [
    "job_title = []\n",
    "company_name= []\n",
    "location = []\n",
    "exp =[]"
   ]
  },
  {
   "cell_type": "code",
   "execution_count": 14,
   "id": "5a8528a0",
   "metadata": {},
   "outputs": [],
   "source": [
    "title_tags= driver.find_elements_by_xpath(\"//a[@class='title fw500 ellipsis']\")\n",
    "\n",
    "for i in title_tags:\n",
    "    job_title.append(i.text)\n",
    "    \n",
    "job_titles = job_title[0:10]"
   ]
  },
  {
   "cell_type": "code",
   "execution_count": 19,
   "id": "e4a92c19",
   "metadata": {},
   "outputs": [],
   "source": [
    "company_tags = driver.find_elements_by_xpath(\"//a[@class='subTitle ellipsis fleft']\")\n",
    "\n",
    "for i in company_tags:\n",
    "    company_name.append(i.text)\n",
    "    \n",
    "company_names=company_name[0:10]"
   ]
  },
  {
   "cell_type": "code",
   "execution_count": 22,
   "id": "92556c2d",
   "metadata": {},
   "outputs": [],
   "source": [
    "location_tags = driver.find_elements_by_xpath(\"//li[@class='fleft grey-text br2 placeHolderLi location']\")\n",
    "\n",
    "for i in location_tags:\n",
    "    location.append(i.text)\n",
    "    \n",
    "locations = location[0:10]"
   ]
  },
  {
   "cell_type": "code",
   "execution_count": 28,
   "id": "93d162e7",
   "metadata": {},
   "outputs": [],
   "source": [
    "exp_tags = driver.find_elements_by_xpath(\"//li[@class='fleft grey-text br2 placeHolderLi experience']\")\n",
    "\n",
    "for i in exp_tags:\n",
    "    exp.append(i.text)\n",
    "    \n",
    "experience = exp[0:10]"
   ]
  },
  {
   "cell_type": "code",
   "execution_count": 29,
   "id": "5bb4908b",
   "metadata": {},
   "outputs": [],
   "source": [
    "df3 = pd.DataFrame({'Job_titles':job_titles,'Locations':locations,'Company_names':company_names,'Experience':experience })"
   ]
  },
  {
   "cell_type": "code",
   "execution_count": 30,
   "id": "50790d3e",
   "metadata": {
    "scrolled": true
   },
   "outputs": [
    {
     "data": {
      "text/html": [
       "<div>\n",
       "<style scoped>\n",
       "    .dataframe tbody tr th:only-of-type {\n",
       "        vertical-align: middle;\n",
       "    }\n",
       "\n",
       "    .dataframe tbody tr th {\n",
       "        vertical-align: top;\n",
       "    }\n",
       "\n",
       "    .dataframe thead th {\n",
       "        text-align: right;\n",
       "    }\n",
       "</style>\n",
       "<table border=\"1\" class=\"dataframe\">\n",
       "  <thead>\n",
       "    <tr style=\"text-align: right;\">\n",
       "      <th></th>\n",
       "      <th>Job_titles</th>\n",
       "      <th>Locations</th>\n",
       "      <th>Company_names</th>\n",
       "      <th>Experience</th>\n",
       "    </tr>\n",
       "  </thead>\n",
       "  <tbody>\n",
       "    <tr>\n",
       "      <th>0</th>\n",
       "      <td>Hiring For Data Scientist</td>\n",
       "      <td>Hyderabad/Secunderabad, Pune, Chennai, Bangalo...</td>\n",
       "      <td>Tata Consultancy Services Ltd.</td>\n",
       "      <td>4-9 Yrs</td>\n",
       "    </tr>\n",
       "    <tr>\n",
       "      <th>1</th>\n",
       "      <td>Data Scientist</td>\n",
       "      <td>Noida, New Delhi, Faridabad, Gurgaon/Gurugram,...</td>\n",
       "      <td>LG Electronics India Pvt. Ltd.</td>\n",
       "      <td>0-2 Yrs</td>\n",
       "    </tr>\n",
       "    <tr>\n",
       "      <th>2</th>\n",
       "      <td>Project Manager | Team Leader | Senior Data Sc...</td>\n",
       "      <td>Remote</td>\n",
       "      <td>Tidyquant (OPC) Private Limited</td>\n",
       "      <td>1-5 Yrs</td>\n",
       "    </tr>\n",
       "    <tr>\n",
       "      <th>3</th>\n",
       "      <td>Data Scientist</td>\n",
       "      <td>Gurgaon/Gurugram, Chennai</td>\n",
       "      <td>Teleperformance</td>\n",
       "      <td>4-9 Yrs</td>\n",
       "    </tr>\n",
       "    <tr>\n",
       "      <th>4</th>\n",
       "      <td>NTT DATA_ Hiring For BIG DATA ,DATA Scientist,...</td>\n",
       "      <td>Noida, Kolkata, Hyderabad/Secunderabad, Ahmeda...</td>\n",
       "      <td>NTT Data Business Solutions Pvt Ltd</td>\n",
       "      <td>3-8 Yrs</td>\n",
       "    </tr>\n",
       "    <tr>\n",
       "      <th>5</th>\n",
       "      <td>Hiring For Data Analyst / Data Scientist</td>\n",
       "      <td>Noida(Sector-59 Noida)</td>\n",
       "      <td>Careerera</td>\n",
       "      <td>1-3 Yrs</td>\n",
       "    </tr>\n",
       "    <tr>\n",
       "      <th>6</th>\n",
       "      <td>Data Scientist</td>\n",
       "      <td>Noida, Pune, Mumbai (All Areas)</td>\n",
       "      <td>WEGARNER SOLUTIONS PRIVATE LIMITED</td>\n",
       "      <td>2-6 Yrs</td>\n",
       "    </tr>\n",
       "    <tr>\n",
       "      <th>7</th>\n",
       "      <td>Immediate requirement For Data Scientist</td>\n",
       "      <td>Mumbai, Hyderabad/Secunderabad, Pune, Chennai,...</td>\n",
       "      <td>CALIBEHR BUSINESS SUPPORT SERVICES PRIVATE LIM...</td>\n",
       "      <td>2-7 Yrs</td>\n",
       "    </tr>\n",
       "    <tr>\n",
       "      <th>8</th>\n",
       "      <td>Data Scientist Internship</td>\n",
       "      <td>New Delhi</td>\n",
       "      <td>iHackers Inc</td>\n",
       "      <td>0-1 Yrs</td>\n",
       "    </tr>\n",
       "    <tr>\n",
       "      <th>9</th>\n",
       "      <td>Data Scientist</td>\n",
       "      <td>Gurgaon/Gurugram</td>\n",
       "      <td>Whizhack Technologies pvt ltd</td>\n",
       "      <td>2-5 Yrs</td>\n",
       "    </tr>\n",
       "  </tbody>\n",
       "</table>\n",
       "</div>"
      ],
      "text/plain": [
       "                                          Job_titles  \\\n",
       "0                          Hiring For Data Scientist   \n",
       "1                                     Data Scientist   \n",
       "2  Project Manager | Team Leader | Senior Data Sc...   \n",
       "3                                     Data Scientist   \n",
       "4  NTT DATA_ Hiring For BIG DATA ,DATA Scientist,...   \n",
       "5           Hiring For Data Analyst / Data Scientist   \n",
       "6                                     Data Scientist   \n",
       "7           Immediate requirement For Data Scientist   \n",
       "8                          Data Scientist Internship   \n",
       "9                                     Data Scientist   \n",
       "\n",
       "                                           Locations  \\\n",
       "0  Hyderabad/Secunderabad, Pune, Chennai, Bangalo...   \n",
       "1  Noida, New Delhi, Faridabad, Gurgaon/Gurugram,...   \n",
       "2                                             Remote   \n",
       "3                          Gurgaon/Gurugram, Chennai   \n",
       "4  Noida, Kolkata, Hyderabad/Secunderabad, Ahmeda...   \n",
       "5                             Noida(Sector-59 Noida)   \n",
       "6                    Noida, Pune, Mumbai (All Areas)   \n",
       "7  Mumbai, Hyderabad/Secunderabad, Pune, Chennai,...   \n",
       "8                                          New Delhi   \n",
       "9                                   Gurgaon/Gurugram   \n",
       "\n",
       "                                       Company_names Experience  \n",
       "0                     Tata Consultancy Services Ltd.    4-9 Yrs  \n",
       "1                     LG Electronics India Pvt. Ltd.    0-2 Yrs  \n",
       "2                    Tidyquant (OPC) Private Limited    1-5 Yrs  \n",
       "3                                    Teleperformance    4-9 Yrs  \n",
       "4                NTT Data Business Solutions Pvt Ltd    3-8 Yrs  \n",
       "5                                          Careerera    1-3 Yrs  \n",
       "6                 WEGARNER SOLUTIONS PRIVATE LIMITED    2-6 Yrs  \n",
       "7  CALIBEHR BUSINESS SUPPORT SERVICES PRIVATE LIM...    2-7 Yrs  \n",
       "8                                       iHackers Inc    0-1 Yrs  \n",
       "9                      Whizhack Technologies pvt ltd    2-5 Yrs  "
      ]
     },
     "execution_count": 30,
     "metadata": {},
     "output_type": "execute_result"
    }
   ],
   "source": [
    "df3"
   ]
  },
  {
   "cell_type": "markdown",
   "id": "950cc8f3",
   "metadata": {},
   "source": [
    "Scrape data of first 100 sunglasses listings on flipkart.com"
   ]
  },
  {
   "cell_type": "code",
   "execution_count": 75,
   "id": "6c0389d5",
   "metadata": {},
   "outputs": [],
   "source": [
    "driver.close()"
   ]
  },
  {
   "cell_type": "code",
   "execution_count": 44,
   "id": "6dedd9de",
   "metadata": {},
   "outputs": [],
   "source": [
    "import selenium\n",
    "import pandas as pd\n",
    "import numpy as np\n",
    "from selenium import webdriver\n",
    "import warnings\n",
    "warnings.simplefilter(action = 'ignore', category = DeprecationWarning)"
   ]
  },
  {
   "cell_type": "code",
   "execution_count": 45,
   "id": "4c8a6e28",
   "metadata": {},
   "outputs": [],
   "source": [
    "driver = webdriver.Chrome(r\"C:\\Users\\Abhijeet\\Downloads\\chromedriver_win32\\chromedriver.exe\")"
   ]
  },
  {
   "cell_type": "code",
   "execution_count": 46,
   "id": "e1c5633f",
   "metadata": {},
   "outputs": [],
   "source": [
    "driver.get('https://www.flipkart.com/')"
   ]
  },
  {
   "cell_type": "code",
   "execution_count": 47,
   "id": "f6975235",
   "metadata": {},
   "outputs": [],
   "source": [
    "search_bar=driver.find_element_by_xpath(\"\"\"//*[@id=\"container\"]/div/div[1]/div[1]/div[2]/div[2]/form/div/div/input\"\"\")\n",
    "search_bar.send_keys(\"Sunglasses\")\n",
    "\n",
    "search_bar.click()\n"
   ]
  },
  {
   "cell_type": "code",
   "execution_count": 59,
   "id": "819c4e83",
   "metadata": {},
   "outputs": [],
   "source": [
    "brand1 =[]\n",
    "\n",
    "brand1_tag = driver.find_elements_by_xpath('//div[@class=\"_2WkVRV\"]')\n",
    "\n",
    "for i in brand1_tag:\n",
    "    brand1.append(i.text)\n",
    "\n",
    "    \n",
    "prod_d1 = []\n",
    "\n",
    "prod_d1_tag = driver.find_elements_by_xpath('//a[@class=\"IRpwTa\"]')\n",
    "\n",
    "for i in prod_d1_tag:\n",
    "    prod_d1.append(i.text)\n",
    "    \n",
    "price1=[]\n",
    "\n",
    "price1tag= driver.find_elements_by_xpath('//div[@class=\"_30jeq3\"]')\n",
    "\n",
    "for i in price1tag:\n",
    "    price1.append(i.text)\n",
    "    \n",
    "                               "
   ]
  },
  {
   "cell_type": "code",
   "execution_count": 64,
   "id": "2700cd3d",
   "metadata": {},
   "outputs": [],
   "source": [
    "next_btn =driver.find_element_by_xpath(\"\"\"//*[@id=\"container\"]/div/div[3]/div[1]/div[2]/div[12]/div/div/nav/a[11]\"\"\")\n",
    "\n",
    "next_btn.click()"
   ]
  },
  {
   "cell_type": "code",
   "execution_count": 65,
   "id": "4b5f3ae2",
   "metadata": {},
   "outputs": [],
   "source": [
    "brand2 =[]\n",
    "\n",
    "brand2_tag = driver.find_elements_by_xpath('//div[@class=\"_2WkVRV\"]')\n",
    "\n",
    "for i in brand2_tag:\n",
    "    brand2.append(i.text)\n",
    "\n",
    "    \n",
    "prod_d2 = []\n",
    "\n",
    "prod_d2_tag = driver.find_elements_by_xpath('//a[@class=\"IRpwTa\"]')\n",
    "\n",
    "for i in prod_d2_tag:\n",
    "    prod_d2.append(i.text)\n",
    "    \n",
    "price2=[]\n",
    "\n",
    "price2tag= driver.find_elements_by_xpath('//div[@class=\"_30jeq3\"]')\n",
    "\n",
    "for i in price2tag:\n",
    "    price2.append(i.text)\n",
    "    "
   ]
  },
  {
   "cell_type": "code",
   "execution_count": 69,
   "id": "65e355f5",
   "metadata": {},
   "outputs": [],
   "source": [
    "next_btn =driver.find_element_by_xpath(\"\"\"//*[@id=\"container\"]/div/div[3]/div[1]/div[2]/div[12]/div/div/nav/a[12]/span\"\"\")\n",
    "\n",
    "next_btn.click()"
   ]
  },
  {
   "cell_type": "code",
   "execution_count": 70,
   "id": "117b9fb9",
   "metadata": {},
   "outputs": [],
   "source": [
    "brand3 =[]\n",
    "\n",
    "brand3_tag = driver.find_elements_by_xpath('//div[@class=\"_2WkVRV\"]')\n",
    "\n",
    "for i in brand3_tag:\n",
    "    brand2.append(i.text)\n",
    "\n",
    "    \n",
    "prod_d3 = []\n",
    "\n",
    "prod_d3_tag = driver.find_elements_by_xpath('//a[@class=\"IRpwTa\"]')\n",
    "\n",
    "for i in prod_d3_tag:\n",
    "    prod_d3.append(i.text)\n",
    "    \n",
    "price3=[]\n",
    "\n",
    "price3tag= driver.find_elements_by_xpath('//div[@class=\"_30jeq3\"]')\n",
    "\n",
    "for i in price3tag:\n",
    "    price3.append(i.text)\n",
    "    "
   ]
  },
  {
   "cell_type": "code",
   "execution_count": 80,
   "id": "1eb52436",
   "metadata": {},
   "outputs": [],
   "source": [
    "brand = brand1 + brand2 + brand3\n",
    "\n",
    "prod_discription = prod_d1 + prod_d2 + prod_d3\n",
    "\n",
    "price = price1 + price2 + price3"
   ]
  },
  {
   "cell_type": "code",
   "execution_count": 83,
   "id": "d40d2ec6",
   "metadata": {},
   "outputs": [],
   "source": [
    "brands = brand[0:100]\n",
    "product_disription = prod_discription[0:100]\n",
    "price_=price[0:100]"
   ]
  },
  {
   "cell_type": "code",
   "execution_count": 84,
   "id": "a9d189d2",
   "metadata": {},
   "outputs": [],
   "source": [
    "driver.close()"
   ]
  },
  {
   "cell_type": "markdown",
   "id": "fefe2405",
   "metadata": {},
   "source": [
    "Scrape 100 reviews data from flipkart.com for iphone11 phone"
   ]
  },
  {
   "cell_type": "code",
   "execution_count": 85,
   "id": "aa356a3d",
   "metadata": {},
   "outputs": [],
   "source": [
    "driver = webdriver.Chrome(r\"C:\\Users\\Abhijeet\\Downloads\\chromedriver_win32\\chromedriver.exe\")"
   ]
  },
  {
   "cell_type": "code",
   "execution_count": 87,
   "id": "585be6f6",
   "metadata": {},
   "outputs": [],
   "source": [
    "driver.get('https://www.flipkart.com/apple-iphone-11-black-64-gb-includes- earpods-poweradapter/p/itm0f37c2240b217?pid=MOBFKCTSVZAXUHGR&lid=LSTMOBFKCTSVZAXUHGREPBFGI&marketplace')"
   ]
  },
  {
   "cell_type": "code",
   "execution_count": 88,
   "id": "cc748133",
   "metadata": {},
   "outputs": [],
   "source": [
    "all_review = driver.find_element_by_xpath(\"\"\"//*[@id=\"container\"]/div/div[3]/div[1]/div[2]/div[8]/div/div/div[5]/div/a/div/span\"\"\")\n",
    "\n",
    "all_review.click()"
   ]
  },
  {
   "cell_type": "code",
   "execution_count": 99,
   "id": "30ab9b6f",
   "metadata": {},
   "outputs": [
    {
     "ename": "AttributeError",
     "evalue": "'list' object has no attribute 'click'",
     "output_type": "error",
     "traceback": [
      "\u001b[1;31m---------------------------------------------------------------------------\u001b[0m",
      "\u001b[1;31mAttributeError\u001b[0m                            Traceback (most recent call last)",
      "\u001b[1;32m<ipython-input-99-2d106aaa1b04>\u001b[0m in \u001b[0;36m<module>\u001b[1;34m\u001b[0m\n\u001b[0;32m      1\u001b[0m \u001b[0mnext_btn\u001b[0m \u001b[1;33m=\u001b[0m \u001b[0mdriver\u001b[0m\u001b[1;33m.\u001b[0m\u001b[0mfind_elements_by_xpath\u001b[0m\u001b[1;33m(\u001b[0m\u001b[1;34m\"\"\"//*[@id=\"container\"]/div/div[3]/div/div/div[2]/div[13]/div/div/nav/a[11]/span\"\"\"\u001b[0m\u001b[1;33m)\u001b[0m\u001b[1;33m\u001b[0m\u001b[1;33m\u001b[0m\u001b[0m\n\u001b[0;32m      2\u001b[0m \u001b[1;33m\u001b[0m\u001b[0m\n\u001b[1;32m----> 3\u001b[1;33m \u001b[0mnext_btn\u001b[0m\u001b[1;33m.\u001b[0m\u001b[0mclick\u001b[0m\u001b[1;33m(\u001b[0m\u001b[1;33m)\u001b[0m\u001b[1;33m\u001b[0m\u001b[1;33m\u001b[0m\u001b[0m\n\u001b[0m",
      "\u001b[1;31mAttributeError\u001b[0m: 'list' object has no attribute 'click'"
     ]
    }
   ],
   "source": [
    "next_btn = driver.find_elements_by_xpath(\"\"\"//*[@id=\"container\"]/div/div[3]/div/div/div[2]/div[13]/div/div/nav/a[11]/span\"\"\")\n",
    "\n",
    "next_btn.click()"
   ]
  },
  {
   "cell_type": "markdown",
   "id": "e51cfd64",
   "metadata": {},
   "source": [
    "Scrape data for first 100 sneakers you find when you visit flipkart.com and search for “sneakers” in the\n",
    "search field."
   ]
  },
  {
   "cell_type": "code",
   "execution_count": 106,
   "id": "ba323708",
   "metadata": {},
   "outputs": [],
   "source": [
    "driver = webdriver.Chrome(r\"C:\\Users\\Abhijeet\\Downloads\\chromedriver_win32\\chromedriver.exe\")"
   ]
  },
  {
   "cell_type": "code",
   "execution_count": 107,
   "id": "b419ec0b",
   "metadata": {},
   "outputs": [],
   "source": [
    "driver.get('https://www.flipkart.com/')"
   ]
  },
  {
   "cell_type": "code",
   "execution_count": 108,
   "id": "1519a4de",
   "metadata": {},
   "outputs": [],
   "source": [
    "search_bar=driver.find_element_by_xpath(\"\"\"//*[@id=\"container\"]/div/div[1]/div[1]/div[2]/div[2]/form/div/div/input\"\"\")\n",
    "search_bar.send_keys(\"Sneakers\")\n",
    "\n"
   ]
  },
  {
   "cell_type": "code",
   "execution_count": 110,
   "id": "3745c727",
   "metadata": {},
   "outputs": [],
   "source": [
    "search_bar.submit()"
   ]
  },
  {
   "cell_type": "code",
   "execution_count": 112,
   "id": "8bcd5956",
   "metadata": {},
   "outputs": [],
   "source": [
    "brand1 = []\n",
    "brandtag1 = driver.find_elements_by_xpath('//div[@class=\"_2WkVRV\"]')\n",
    "\n",
    "for i in brandtag1:\n",
    "    brand1.append(i.text)\n",
    "    \n",
    "dis1 = []\n",
    "\n",
    "distag1 = driver.find_elements_by_xpath('//a[@class=\"IRpwTa\"]')\n",
    "\n",
    "for i in distag1:\n",
    "    dis1.append(i.text)\n",
    "    \n",
    "price1 = []\n",
    "\n",
    "pricetag1 = driver.find_elements_by_xpath('//div[@class=\"_30jeq3\"]')\n",
    "\n",
    "for i in pricetag1:\n",
    "    price1.append(i.text)\n",
    "    \n",
    "\n",
    "discount1=[]\n",
    "disc1 = driver.find_elements_by_xpath('//div[@class=\"_3Ay6Sb\"]')\n",
    "\n",
    "for i in disc1:\n",
    "    discount1.append(i.text)\n",
    "    "
   ]
  },
  {
   "cell_type": "code",
   "execution_count": 116,
   "id": "d03245f8",
   "metadata": {},
   "outputs": [],
   "source": [
    "next_btn = driver.find_element_by_xpath(\"\"\"//*[@id=\"container\"]/div/div[3]/div[1]/div[2]/div[12]/div/div/nav/a[11]/span\"\"\")\n",
    "\n",
    "next_btn.click()"
   ]
  },
  {
   "cell_type": "code",
   "execution_count": 133,
   "id": "7bb1f815",
   "metadata": {},
   "outputs": [],
   "source": [
    "brand2 = []\n",
    "brandtag2 = driver.find_elements_by_xpath('//div[@class=\"_2WkVRV\"]')\n",
    "\n",
    "for i in brandtag2:\n",
    "    brand2.append(i.text)\n",
    "    \n",
    "dis2 = []\n",
    "\n",
    "distag2 = driver.find_elements_by_xpath('//a[@class=\"IRpwTa\"]')\n",
    "\n",
    "for i in distag2:\n",
    "    dis2.append(i.text)\n",
    "    \n",
    "price2 = []\n",
    "\n",
    "pricetag2 = driver.find_elements_by_xpath('//div[@class=\"_30jeq3\"]')\n",
    "\n",
    "for i in pricetag2:\n",
    "    price2.append(i.text)\n",
    "    \n",
    "\n",
    "discount2=[]\n",
    "disc2 = driver.find_elements_by_xpath('//div[@class=\"_3Ay6Sb\"]')\n",
    "\n",
    "for i in disc2:\n",
    "    discount2.append(i.text)\n",
    "    "
   ]
  },
  {
   "cell_type": "code",
   "execution_count": 119,
   "id": "fb44af49",
   "metadata": {},
   "outputs": [],
   "source": [
    "next_btn2= driver.find_element_by_xpath(\"\"\"//*[@id=\"container\"]/div/div[3]/div[1]/div[2]/div[12]/div/div/nav/a[12]/span\"\"\")\n",
    "\n",
    "next_btn2.click()"
   ]
  },
  {
   "cell_type": "code",
   "execution_count": 134,
   "id": "d342a6df",
   "metadata": {},
   "outputs": [],
   "source": [
    "brand3 = []\n",
    "brandtag3 = driver.find_elements_by_xpath('//div[@class=\"_2WkVRV\"]')\n",
    "\n",
    "for i in brandtag3:\n",
    "    brand3.append(i.text)\n",
    "    \n",
    "dis3 = []\n",
    "\n",
    "distag3= driver.find_elements_by_xpath('//a[@class=\"IRpwTa\"]')\n",
    "\n",
    "for i in distag3:\n",
    "    dis3.append(i.text)\n",
    "    \n",
    "price3 = []\n",
    "\n",
    "pricetag3 = driver.find_elements_by_xpath('//div[@class=\"_30jeq3\"]')\n",
    "\n",
    "for i in pricetag3:\n",
    "    price3.append(i.text)\n",
    "    \n",
    "\n",
    "discount3=[]\n",
    "disc3 = driver.find_elements_by_xpath('//div[@class=\"_3Ay6Sb\"]')\n",
    "\n",
    "for i in disc3:\n",
    "    discount3.append(i.text)\n",
    "    "
   ]
  },
  {
   "cell_type": "code",
   "execution_count": 135,
   "id": "1f4d8b3d",
   "metadata": {},
   "outputs": [],
   "source": [
    "Brand = brand1 + brand2 + brand3\n",
    "prod_dic = dis1 + dis2 + dis3\n",
    "price = price1 + price2 + price3\n",
    "discount = discount1 + discount2 + discount3"
   ]
  },
  {
   "cell_type": "code",
   "execution_count": 136,
   "id": "c0995b2e",
   "metadata": {},
   "outputs": [],
   "source": [
    "product_brand = Brand[0:100]\n",
    "prodduct_discription = prod_dic[0:100]\n",
    "product_price = price[0:100]\n",
    "product_discount = discount[0:100]"
   ]
  },
  {
   "cell_type": "code",
   "execution_count": 138,
   "id": "ae69d563",
   "metadata": {},
   "outputs": [],
   "source": [
    "driver.close()"
   ]
  },
  {
   "cell_type": "markdown",
   "id": "88ab0cd7",
   "metadata": {},
   "source": [
    "Go to the link - https://www.myntra.com/shoes\n",
    "Set Price filter to “Rs. 6649 to Rs. 13099” , Color filter to “Black”, as shown in the below image."
   ]
  },
  {
   "cell_type": "code",
   "execution_count": 139,
   "id": "e0fc2e5b",
   "metadata": {},
   "outputs": [],
   "source": [
    "driver = webdriver.Chrome(r\"C:\\Users\\Abhijeet\\Downloads\\chromedriver_win32\\chromedriver.exe\")"
   ]
  },
  {
   "cell_type": "code",
   "execution_count": 140,
   "id": "102b0d74",
   "metadata": {},
   "outputs": [],
   "source": [
    "driver.get('https://www.myntra.com/shoes')"
   ]
  },
  {
   "cell_type": "code",
   "execution_count": 145,
   "id": "17420dfb",
   "metadata": {},
   "outputs": [],
   "source": [
    "color_filter = driver.find_element_by_xpath(\"\"\"/html/body/div[2]/div/div[1]/main/div[3]/div[1]/section/div/div[6]/ul/li[1]/label/div\"\"\")\n",
    "\n",
    "color_filter.click()"
   ]
  },
  {
   "cell_type": "code",
   "execution_count": 147,
   "id": "c2fe8efc",
   "metadata": {},
   "outputs": [],
   "source": [
    "# Price range mentioned in question not found hence filtering 7187 to 14125\n",
    "price_filter = driver.find_element_by_xpath(\"\"\"/html/body/div[2]/div/div[1]/main/div[3]/div[1]/section/div/div[5]/ul/li[2]/label/div\"\"\")\n",
    "\n",
    "price_filter.click()"
   ]
  },
  {
   "cell_type": "code",
   "execution_count": 157,
   "id": "bd160a9f",
   "metadata": {},
   "outputs": [],
   "source": [
    "brand1=[]\n",
    "\n",
    "brandtag1 = driver.find_elements_by_xpath('//h3[@class=\"product-brand\"]')\n",
    "\n",
    "for i in brandtag1:\n",
    "    brand1.append(i.text)\n",
    "        \n",
    "disc1 = []\n",
    "disctag1 =driver.find_elements_by_xpath('//h4[@class=\"product-product\"]') \n",
    "for i in disctag1:\n",
    "    disc1.append(i.text)\n",
    "    \n",
    "price1 = []\n",
    "pricetag=driver.find_elements_by_xpath('//div[@class=\"product-price\"]')\n",
    "for i in pricetag:\n",
    "    price1.append(i.text)\n",
    "    "
   ]
  },
  {
   "cell_type": "code",
   "execution_count": 161,
   "id": "64a7bef0",
   "metadata": {},
   "outputs": [],
   "source": [
    "next_btn = driver.find_element_by_xpath(\"\"\"//*[@id=\"desktopSearchResults\"]/div[2]/section/div[2]/ul/li[12]/a\"\"\")\n",
    "\n",
    "next_btn.click()"
   ]
  },
  {
   "cell_type": "code",
   "execution_count": 162,
   "id": "eeef6d2c",
   "metadata": {},
   "outputs": [],
   "source": [
    "brand2=[]\n",
    "\n",
    "brandtag2 = driver.find_elements_by_xpath('//h3[@class=\"product-brand\"]')\n",
    "\n",
    "for i in brandtag2:\n",
    "    brand2.append(i.text)\n",
    "        \n",
    "disc2 = []\n",
    "disctag2 =driver.find_elements_by_xpath('//h4[@class=\"product-product\"]') \n",
    "for i in disctag2:\n",
    "    disc2.append(i.text)\n",
    "    \n",
    "price2 = []\n",
    "pricetag2=driver.find_elements_by_xpath('//div[@class=\"product-price\"]')\n",
    "for i in pricetag2:\n",
    "    price1.append(i.text)\n",
    "    "
   ]
  },
  {
   "cell_type": "code",
   "execution_count": 163,
   "id": "fa11adc1",
   "metadata": {},
   "outputs": [],
   "source": [
    "brand = brand1 + brand2\n",
    "product_discription = disc1 + disc2\n",
    "price = price1 + price2"
   ]
  },
  {
   "cell_type": "code",
   "execution_count": 166,
   "id": "65c4aabd",
   "metadata": {},
   "outputs": [],
   "source": [
    "driver.close()"
   ]
  },
  {
   "cell_type": "markdown",
   "id": "9bf5c08b",
   "metadata": {},
   "source": [
    "Go to webpage https://www.amazon.in/\n",
    "Enter “Laptop” in the search field and then click the search icon.\n",
    "Then set CPU Type filter to “Intel Core i7” and “Intel Core i9” as shown in the below image:\n",
    "After"
   ]
  },
  {
   "cell_type": "code",
   "execution_count": 1,
   "id": "9a75009a",
   "metadata": {},
   "outputs": [],
   "source": [
    "import selenium\n",
    "import pandas as pd\n",
    "import numpy as np\n",
    "from selenium import webdriver\n",
    "import warnings\n",
    "warnings.simplefilter(action = 'ignore', category = DeprecationWarning)"
   ]
  },
  {
   "cell_type": "code",
   "execution_count": 13,
   "id": "b2df87aa",
   "metadata": {},
   "outputs": [],
   "source": [
    "driver = webdriver.Chrome(r\"C:\\Users\\Abhijeet\\Downloads\\chromedriver_win32\\chromedriver.exe\")"
   ]
  },
  {
   "cell_type": "code",
   "execution_count": 14,
   "id": "0e96877c",
   "metadata": {},
   "outputs": [],
   "source": [
    "driver.get('https://www.amazon.in/')"
   ]
  },
  {
   "cell_type": "code",
   "execution_count": 15,
   "id": "aeccea09",
   "metadata": {},
   "outputs": [],
   "source": [
    "search_bar = driver.find_element_by_id(\"twotabsearchtextbox\")"
   ]
  },
  {
   "cell_type": "code",
   "execution_count": 16,
   "id": "3c331b10",
   "metadata": {},
   "outputs": [],
   "source": [
    "search_bar.send_keys('laptop')"
   ]
  },
  {
   "cell_type": "code",
   "execution_count": 17,
   "id": "4bf0ded8",
   "metadata": {},
   "outputs": [],
   "source": [
    "search_btn = driver.find_element_by_xpath('//div[@class=\"nav-search-submit nav-sprite\"]')\n",
    "\n",
    "search_btn.click()"
   ]
  },
  {
   "cell_type": "code",
   "execution_count": 18,
   "id": "b90e0af5",
   "metadata": {},
   "outputs": [],
   "source": [
    "filter1 = driver.find_element_by_xpath(\"\"\"/html/body/div[1]/div[2]/div[1]/div[2]/div/div[3]/span/div[1]/span/div/div/div[6]/ul[1]/li[11]/span/a/div/label/i\"\"\")\n",
    "\n",
    "filter1.click()"
   ]
  },
  {
   "cell_type": "code",
   "execution_count": 19,
   "id": "860e7216",
   "metadata": {},
   "outputs": [],
   "source": [
    "filter2 = driver.find_element_by_xpath(\"\"\"/html/body/div[1]/div[2]/div[1]/div[2]/div/div[3]/span/div[1]/span/div/div/div[5]/ul[1]/li[3]/span/a/div/label/i\"\"\")\n",
    "\n",
    "filter2.click()"
   ]
  },
  {
   "cell_type": "code",
   "execution_count": 40,
   "id": "97413d18",
   "metadata": {},
   "outputs": [],
   "source": [
    "titles = []\n",
    "title_tags = driver.find_elements_by_xpath('//span[@class=\"a-size-medium a-color-base a-text-normal\"]')\n",
    "for i in title_tags:\n",
    "    titles.append(i.text)\n",
    "    \n",
    "Laptop_titles = titles[0:10]\n",
    "\n",
    "price = []\n",
    "\n",
    "price_tags = driver.find_elements_by_xpath('//span[@class=\"a-price-whole\"]')\n",
    "for i in price_tags:\n",
    "    price.append(i.text)\n",
    "    \n",
    "Laptop_price = price[0:10]\n",
    "\n",
    "rating = []\n",
    "\n",
    "rating_tags = driver.find_elements_by_xpath('//*[@id=\"search\"]/div[1]/div[1]/div/span[3]/div[2]/div[2]/div/span/div/div/div/div/div[2]/div[2]/div/div/div[2]/div/span[1]/span/a/i[1]/span')\n",
    "for i in rating_tags:\n",
    "    rating.append(i.text)"
   ]
  },
  {
   "cell_type": "code",
   "execution_count": 41,
   "id": "e98ec6fd",
   "metadata": {},
   "outputs": [
    {
     "data": {
      "text/plain": [
       "['']"
      ]
     },
     "execution_count": 41,
     "metadata": {},
     "output_type": "execute_result"
    }
   ],
   "source": [
    "rating"
   ]
  },
  {
   "cell_type": "code",
   "execution_count": 42,
   "id": "2cb787ac",
   "metadata": {},
   "outputs": [],
   "source": [
    "driver.close()"
   ]
  },
  {
   "cell_type": "markdown",
   "id": "0480fb8c",
   "metadata": {},
   "source": [
    "Write a python program to scrape data for first 10 job results for Data Scientist Designation in Noida\n",
    "location"
   ]
  },
  {
   "cell_type": "code",
   "execution_count": 16,
   "id": "8cc78bfe",
   "metadata": {},
   "outputs": [],
   "source": [
    "import selenium\n",
    "import pandas as pd\n",
    "from selenium import webdriver\n",
    "import warnings\n",
    "warnings.simplefilter(action = 'ignore', category = DeprecationWarning)"
   ]
  },
  {
   "cell_type": "code",
   "execution_count": 17,
   "id": "5c82b78d",
   "metadata": {},
   "outputs": [],
   "source": [
    "driver = webdriver.Chrome(r\"C:\\Users\\Abhijeet\\Downloads\\chromedriver_win32\\chromedriver.exe\")"
   ]
  },
  {
   "cell_type": "code",
   "execution_count": 18,
   "id": "34d4ef86",
   "metadata": {},
   "outputs": [],
   "source": [
    "driver.get('https://www.ambitionbox.com/')"
   ]
  },
  {
   "cell_type": "code",
   "execution_count": 19,
   "id": "5d9d3f45",
   "metadata": {},
   "outputs": [],
   "source": [
    "job_search = driver.find_element_by_xpath('/html/body/div[1]/nav/nav/a[6]')\n",
    "\n",
    "job_search.click()"
   ]
  },
  {
   "cell_type": "code",
   "execution_count": 20,
   "id": "1eebf531",
   "metadata": {},
   "outputs": [],
   "source": [
    "search_bar = driver.find_element_by_xpath('//*[@id=\"jobs-typeahead\"]/span/input')\n",
    "\n",
    "search_bar.send_keys('Data Scientist')"
   ]
  },
  {
   "cell_type": "code",
   "execution_count": 21,
   "id": "affdb3d6",
   "metadata": {},
   "outputs": [],
   "source": [
    "search_btn = driver.find_element_by_xpath('//button[@class=\"ab_btn search-btn round\"]')\n",
    "search_btn.click()"
   ]
  },
  {
   "cell_type": "code",
   "execution_count": 22,
   "id": "b5b71b38",
   "metadata": {},
   "outputs": [],
   "source": [
    "location_bar = driver.find_element_by_xpath('/html/body/div/div/div/div[2]/div[2]/div[1]/div/div/div/div[2]/div[1]/p')\n",
    "location_bar.click()"
   ]
  },
  {
   "cell_type": "code",
   "execution_count": 23,
   "id": "78121806",
   "metadata": {},
   "outputs": [],
   "source": [
    "search_bar2 = driver.find_element_by_xpath('//*[@id=\"filters-row\"]/div/div/div[2]/div[2]/div/div[2]/input')\n",
    "search_bar2.send_keys('Noida')"
   ]
  },
  {
   "cell_type": "code",
   "execution_count": 24,
   "id": "154f41da",
   "metadata": {},
   "outputs": [],
   "source": [
    "select = driver.find_element_by_xpath('/html/body/div/div/div/div[2]/div[2]/div[1]/div/div/div/div[2]/div[2]/div/div[3]/div[1]/div[1]/div/label')\n",
    "select.click()"
   ]
  },
  {
   "cell_type": "code",
   "execution_count": 52,
   "id": "7c80017f",
   "metadata": {},
   "outputs": [],
   "source": [
    "company_name = []\n",
    "\n",
    "posted_tags = driver.find_elements_by_xpath('//p[@class=\"company body-medium\"]')\n",
    "\n",
    "for i in posted_tags:\n",
    "    company_name.append(i.text)\n",
    "    \n"
   ]
  },
  {
   "cell_type": "code",
   "execution_count": 57,
   "id": "cca52292",
   "metadata": {},
   "outputs": [],
   "source": [
    "posted_days=[]\n",
    "posted_tags = driver.find_elements_by_xpath('//span[@class=\"body-small-l\"]')\n",
    "\n",
    "for i in posted_tags:\n",
    "    posted_days.append(i.text)"
   ]
  },
  {
   "cell_type": "code",
   "execution_count": 70,
   "id": "49f36443",
   "metadata": {},
   "outputs": [],
   "source": [
    "rating = []\n",
    "\n",
    "rating_tag = driver.find_elements_by_xpath('//a[@class=\"rating rating-4\"]')\n",
    "for i in rating_tag:\n",
    "    rating.append(i.text)"
   ]
  }
 ],
 "metadata": {
  "kernelspec": {
   "display_name": "Python 3",
   "language": "python",
   "name": "python3"
  },
  "language_info": {
   "codemirror_mode": {
    "name": "ipython",
    "version": 3
   },
   "file_extension": ".py",
   "mimetype": "text/x-python",
   "name": "python",
   "nbconvert_exporter": "python",
   "pygments_lexer": "ipython3",
   "version": "3.8.8"
  }
 },
 "nbformat": 4,
 "nbformat_minor": 5
}
